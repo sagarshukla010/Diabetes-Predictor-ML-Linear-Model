{
 "cells": [
  {
   "cell_type": "code",
   "execution_count": null,
   "id": "89104a3f",
   "metadata": {},
   "outputs": [],
   "source": [
    "import matplotlib.pyplot as plt\n",
    "import numpy as np\n",
    "from sklearn import datasets, linear_model\n",
    "from sklearn.metrics import mean_squared_error\n",
    "\n",
    "diabetes = datasets.load_diabetes()\n",
    "\n",
    "#print(diabetes.keys())  -- to print all the keys of load_diabetes datasets.\n",
    "\n",
    "#print(diabetes.DESCR)   -- to get the full description of the datasets.\n",
    "# ['data', 'target', 'frame', 'DESCR', 'feature_names', 'data_filename', 'target_filename']\n",
    "\n",
    "diabetes_X = diabetes.data[:, np.newaxis ,2] # using just one feature here to visualize our linear model\n",
    "                                             # to use more than one feature we can write as \"diabetes.data\"\n",
    "\n",
    "diabetes_X_train = diabetes_X[:-30]\n",
    "diabetes_X_test = diabetes_X[-20:]\n",
    "\n",
    "diabetes_Y_train = diabetes.target[:-30]\n",
    "diabetes_Y_test = diabetes.target[-20:]\n",
    "\n",
    "model = linear_model.LinearRegression()\n",
    "\n",
    "model.fit(diabetes_X_train, diabetes_Y_train)   # to train the model\n",
    "\n",
    "diabetes_Y_predicted = model.predict(diabetes_X_test) # model first prediction\n",
    "\n",
    "#first Calculating the mean square error of the trained model\n",
    "print(\"Mean square error is: \", mean_squared_error(diabetes_Y_test, diabetes_Y_predicted))\n",
    "print(\"________________________________\")\n",
    "\n",
    "# to Calculate the weight and intercept of the trained model\n",
    "print(\"Weights: \", model.coef_)\n",
    "print(\"Intercepts: \",model.intercept_)\n",
    "\n",
    "# first plotting the scatter plot by using the test values\n",
    "plt.scatter(diabetes_X_test, diabetes_Y_test)\n",
    "\n",
    "# taking care of the minimum errors, here is our predicted plot of linear model \n",
    "plt.plot(diabetes_X_test,diabetes_Y_predicted)\n",
    "\n",
    "plt.show()\n",
    "\n",
    "\n",
    "\n",
    "\n",
    "\n"
   ]
  }
 ],
 "metadata": {
  "kernelspec": {
   "display_name": "Python 3 (ipykernel)",
   "language": "python",
   "name": "python3"
  },
  "language_info": {
   "codemirror_mode": {
    "name": "ipython",
    "version": 3
   },
   "file_extension": ".py",
   "mimetype": "text/x-python",
   "name": "python",
   "nbconvert_exporter": "python",
   "pygments_lexer": "ipython3",
   "version": "3.8.2"
  }
 },
 "nbformat": 4,
 "nbformat_minor": 5
}
